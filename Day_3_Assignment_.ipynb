{
 "cells": [
  {
   "cell_type": "markdown",
   "metadata": {
    "id": "oZcayd8fjQf2"
   },
   "source": [
    "# Question 1\n",
    "Create a numpy array starting from 2 till 50 with a stepsize of 3."
   ]
  },
  {
   "cell_type": "code",
   "execution_count": 5,
   "metadata": {
    "colab": {
     "base_uri": "https://localhost:8080/"
    },
    "id": "izbAhmt_i0mh",
    "outputId": "f868b786-c76b-4242-d69d-afa57c8a1b19"
   },
   "outputs": [
    {
     "name": "stdout",
     "output_type": "stream",
     "text": [
      "[ 2  5  8 11 14 17 20 23 26 29 32 35 38 41 44 47 50]\n"
     ]
    }
   ],
   "source": [
    "import numpy as np\n",
    "ar = np.arange(2,51,3)\n",
    "print(ar)"
   ]
  },
  {
   "cell_type": "markdown",
   "metadata": {
    "id": "Wkc8A33Sln5D"
   },
   "source": [
    "# Question 2\n",
    "Accept two lists of 5 elements each from the user.\n",
    "Convert them to numpy arrays. Concatenate these arrays and print it. Also sort these arrays and print it."
   ]
  },
  {
   "cell_type": "code",
   "execution_count": 14,
   "metadata": {
    "colab": {
     "base_uri": "https://localhost:8080/"
    },
    "id": "JfqImfVajNW1",
    "outputId": "f4b9bac0-9c44-41b0-ef97-a228847c7cb7"
   },
   "outputs": [
    {
     "name": "stdout",
     "output_type": "stream",
     "text": [
      "5\n",
      "9\n",
      "7\n",
      "8\n",
      "6\n",
      "3\n",
      "4\n",
      "1\n",
      "2\n",
      "0\n",
      "[5 9 7 8 6 3 4 1 2 0]\n",
      "[0 1 2 3 4 5 6 7 8 9]\n"
     ]
    }
   ],
   "source": [
    "import numpy as np\n",
    "a1=[] \n",
    "a2=[]\n",
    "for i in range(0, 5): \n",
    "    ele = int(input())\n",
    "    a1.append(ele)\n",
    "for i in range(0, 5): \n",
    "    ele = int(input())\n",
    "    a2.append(ele) \n",
    "a1 = np.array(a1)\n",
    "a2 = np.array(a2)\n",
    "print(np.concatenate((a1,a2)))\n",
    "print(np.sort(np.concatenate((a1,a2))))"
   ]
  },
  {
   "cell_type": "markdown",
   "metadata": {
    "id": "XnIG7C24rXKE"
   },
   "source": [
    "# Question 3\n",
    "Write a code snippet to find the dimensions of a ndarray and its size."
   ]
  },
  {
   "cell_type": "code",
   "execution_count": 22,
   "metadata": {
    "colab": {
     "base_uri": "https://localhost:8080/"
    },
    "id": "EK51wQ0JrWz_",
    "outputId": "eb4fad78-c8e9-4c98-fed7-1f9b2bde0e09"
   },
   "outputs": [
    {
     "name": "stdout",
     "output_type": "stream",
     "text": [
      "2\n",
      "9\n"
     ]
    }
   ],
   "source": [
    "import numpy as np\n",
    "arr = np.array([[1,2,3],[1,3,5],[1,3,4]])\n",
    "print(arr.ndim)\n",
    "print(arr.size)"
   ]
  },
  {
   "cell_type": "markdown",
   "metadata": {
    "id": "UPIzFbAyuG12"
   },
   "source": [
    "# Question 4\n",
    "How to convert a 1D array into a 2D array? Demonstrate with the help of a code snippet"
   ]
  },
  {
   "cell_type": "code",
   "execution_count": 49,
   "metadata": {
    "colab": {
     "base_uri": "https://localhost:8080/"
    },
    "id": "JWdZx7eR3Crs",
    "outputId": "7b5865c0-764d-4fa6-bce4-2196144b4737"
   },
   "outputs": [
    {
     "name": "stdout",
     "output_type": "stream",
     "text": [
      "1\n",
      "2\n"
     ]
    }
   ],
   "source": [
    "import numpy as np\n",
    "arr=np.random.rand(5,)\n",
    "print(arr.ndim)\n",
    "nw_arr = arr[np.newaxis, :]\n",
    "print(nw_arr.ndim)"
   ]
  },
  {
   "cell_type": "markdown",
   "metadata": {
    "id": "0PqRl4QJ6DrN"
   },
   "source": [
    "# Question 5\n",
    "Consider two square numpy arrays. Stack them vertically and horizontally."
   ]
  },
  {
   "cell_type": "code",
   "execution_count": 56,
   "metadata": {
    "colab": {
     "base_uri": "https://localhost:8080/"
    },
    "id": "k37F5HGp6C_4",
    "outputId": "17fb8ff8-cc91-4ce7-a23d-433b983e6647"
   },
   "outputs": [
    {
     "name": "stdout",
     "output_type": "stream",
     "text": [
      "[[0.8418624  0.11132147 0.71759827]\n",
      " [0.72996371 0.89752563 0.12768244]\n",
      " [0.80129902 0.36961897 0.6120731 ]\n",
      " [0.29055544 0.61678773 0.80531161]\n",
      " [0.31991061 0.26879361 0.88770152]\n",
      " [0.59006031 0.28584399 0.16354731]]\n",
      "\n",
      "[[0.8418624  0.11132147 0.71759827 0.29055544 0.61678773 0.80531161]\n",
      " [0.72996371 0.89752563 0.12768244 0.31991061 0.26879361 0.88770152]\n",
      " [0.80129902 0.36961897 0.6120731  0.59006031 0.28584399 0.16354731]]\n"
     ]
    }
   ],
   "source": [
    "import numpy as np\n",
    "arr1=np.random.rand(3,3)\n",
    "arr2=np.random.rand(3,3)\n",
    "print(np.vstack((arr1,arr2)))\n",
    "print() \n",
    "print(np.hstack((arr1,arr2)))"
   ]
  },
  {
   "cell_type": "markdown",
   "metadata": {
    "id": "zGyo3zfI8CKJ"
   },
   "source": [
    "# Question 6\n",
    "How to get unique items and counts of unique items?"
   ]
  },
  {
   "cell_type": "code",
   "execution_count": 82,
   "metadata": {
    "colab": {
     "base_uri": "https://localhost:8080/"
    },
    "id": "Xc_EqiPn68Vx",
    "outputId": "c5646052-36d7-4088-873d-66c18c216bd5"
   },
   "outputs": [
    {
     "name": "stdout",
     "output_type": "stream",
     "text": [
      "(array([1, 2, 3, 4, 5, 6, 7, 8, 9]), array([2, 2, 2, 1, 2, 3, 2, 2, 3]))\n"
     ]
    }
   ],
   "source": [
    "import numpy as np\n",
    "arr = np.array([1,9,3,1,5,2,5,6,4,3,9,7,6,8,9,2,6,7,8])\n",
    "print(np.unique(arr,return_counts=True))"
   ]
  }
 ],
 "metadata": {
  "colab": {
   "authorship_tag": "ABX9TyM7uLYpu7cezL5TvydZPVQi",
   "include_colab_link": true,
   "name": "Assignment 4.ipynb",
   "provenance": []
  },
  "kernelspec": {
   "display_name": "Python 3",
   "language": "python",
   "name": "python3"
  },
  "language_info": {
   "codemirror_mode": {
    "name": "ipython",
    "version": 3
   },
   "file_extension": ".py",
   "mimetype": "text/x-python",
   "name": "python",
   "nbconvert_exporter": "python",
   "pygments_lexer": "ipython3",
   "version": "3.7.6"
  }
 },
 "nbformat": 4,
 "nbformat_minor": 1
}
